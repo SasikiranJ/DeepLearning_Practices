{
  "nbformat": 4,
  "nbformat_minor": 0,
  "metadata": {
    "colab": {
      "name": "Untitled8.ipynb",
      "provenance": [],
      "collapsed_sections": [],
      "authorship_tag": "ABX9TyPNqTJvPsfyRsgGK4PIHG+I",
      "include_colab_link": true
    },
    "kernelspec": {
      "name": "python3",
      "display_name": "Python 3"
    },
    "accelerator": "GPU"
  },
  "cells": [
    {
      "cell_type": "markdown",
      "metadata": {
        "id": "view-in-github",
        "colab_type": "text"
      },
      "source": [
        "<a href=\"https://colab.research.google.com/github/SasikiranJ/Hand-Sign-Language-Detection-Using-Convolutional-Neural-Networks/blob/master/Sign_language_using_CNN.ipynb\" target=\"_parent\"><img src=\"https://colab.research.google.com/assets/colab-badge.svg\" alt=\"Open In Colab\"/></a>"
      ]
    },
    {
      "cell_type": "code",
      "metadata": {
        "id": "u4OdWMYgSwcW",
        "colab_type": "code",
        "colab": {}
      },
      "source": [
        "import numpy as np\n",
        "from keras import layers\n",
        "from keras.layers import Input, Dense, Activation, ZeroPadding2D, BatchNormalization, Flatten, Conv2D\n",
        "from keras.layers import AveragePooling2D, MaxPooling2D, Dropout, GlobalMaxPooling2D, GlobalAveragePooling2D\n",
        "from keras.models import Model\n",
        "from keras.preprocessing import image\n",
        "from keras.utils import layer_utils\n",
        "from keras.utils.data_utils import get_file\n",
        "from keras.applications.imagenet_utils import preprocess_input\n",
        "import pydot\n",
        "from IPython.display import SVG\n",
        "from keras.utils.vis_utils import model_to_dot\n",
        "from keras.utils import plot_model\n",
        "from keras.models import Sequential,load_model\n",
        "from keras.layers import LeakyReLU\n",
        "import keras.backend as K\n",
        "K.set_image_data_format('channels_last')\n",
        "import matplotlib.pyplot as plt\n",
        "from matplotlib.pyplot import imshow\n",
        "\n",
        "%matplotlib inline"
      ],
      "execution_count": 0,
      "outputs": []
    },
    {
      "cell_type": "code",
      "metadata": {
        "id": "hsxUCBP_TJ5N",
        "colab_type": "code",
        "colab": {}
      },
      "source": [
        " from keras.preprocessing.image import ImageDataGenerator\n",
        "train_datagen = ImageDataGenerator(rescale = 1./255)\n",
        "\n",
        "test_datagen = ImageDataGenerator(rescale = 1./255)"
      ],
      "execution_count": 0,
      "outputs": []
    },
    {
      "cell_type": "code",
      "metadata": {
        "id": "2zjoPpnHTjCH",
        "colab_type": "code",
        "outputId": "f91ee48b-78a3-4fe3-fad4-f157bb4aa7e5",
        "colab": {
          "base_uri": "https://localhost:8080/",
          "height": 51
        }
      },
      "source": [
        " training_set = train_datagen.flow_from_directory(\"signs/train\",\n",
        "                                                  target_size = (100, 100),\n",
        "                                                  batch_size = 16,\n",
        "                                                  class_mode = \"categorical\",\n",
        "                                                  shuffle = False)\n",
        "\n",
        "test_set = test_datagen.flow_from_directory(\"signs/test\",\n",
        "                                            target_size = (100, 100),\n",
        "                                            batch_size = 1,\n",
        "                                            class_mode = \"categorical\",\n",
        "                                            shuffle= False)"
      ],
      "execution_count": 5,
      "outputs": [
        {
          "output_type": "stream",
          "text": [
            "Found 2000 images belonging to 10 classes.\n",
            "Found 62 images belonging to 10 classes.\n"
          ],
          "name": "stdout"
        }
      ]
    },
    {
      "cell_type": "code",
      "metadata": {
        "id": "XJkvdDslT-p0",
        "colab_type": "code",
        "colab": {}
      },
      "source": [
        "model = Sequential()\n",
        "model.add(ZeroPadding2D(2, input_shape=(100,100, 3)))\n",
        "model.add(Conv2D(32, (5, 5), strides = (1, 1), name = 'conv0'))\n",
        "model.add(Conv2D(32, (5, 5), strides = (1, 1)))\n",
        "model.add(LeakyReLU(alpha = 0.3))\n",
        "model.add(BatchNormalization(axis = 3, name = 'bn0'))\n",
        "\n",
        "model.add(Conv2D(64, (5, 5), strides = (1, 1), name = 'conv1'))\n",
        "model.add(Conv2D(64, (5, 5), strides = (1, 1)))\n",
        "model.add(LeakyReLU(alpha = 0.3))\n",
        "model.add(BatchNormalization(axis = 3, name = 'bn1'))\n",
        "\n",
        "\n",
        "model.add(Conv2D(128, (5, 5), strides = (1, 1), name = 'conv2'))\n",
        "model.add(Conv2D(128, (5, 5), strides = (1, 1)))\n",
        "model.add(LeakyReLU(alpha = 0.3))\n",
        "model.add(BatchNormalization(axis = 3, name = 'bn2'))\n",
        "\n",
        "model.add(Conv2D(512, (5, 5), strides = (1, 1), name = 'conv3'))\n",
        "model.add(Conv2D(512, (5, 5), strides = (1, 1)))\n",
        "model.add(LeakyReLU(alpha = 0.3))\n",
        "model.add(BatchNormalization(axis = 3, name = 'bn3'))\n",
        "\n",
        "\n",
        "\n",
        "model.add(MaxPooling2D((2, 2), name='max_pool1'))\n",
        "model.add(Flatten())\n",
        "model.add(Dense(50, name='fc1'))\n",
        "model.add(LeakyReLU(alpha = 0.3))\n",
        "model.add(Dense(10, activation='softmax', name='fc2'))\n",
        "\n"
      ],
      "execution_count": 0,
      "outputs": []
    },
    {
      "cell_type": "code",
      "metadata": {
        "id": "aVV2fpgsUgqS",
        "colab_type": "code",
        "colab": {}
      },
      "source": [
        "model.compile(optimizer = \"RMSProp\", loss = \"categorical_crossentropy\", metrics = [\"accuracy\"])"
      ],
      "execution_count": 0,
      "outputs": []
    },
    {
      "cell_type": "code",
      "metadata": {
        "id": "V8cFkn6BW4rU",
        "colab_type": "code",
        "outputId": "d96b4ded-df19-4899-9623-c53aa0575688",
        "colab": {
          "base_uri": "https://localhost:8080/",
          "height": 1000
        }
      },
      "source": [
        "from keras.callbacks import EarlyStopping, ModelCheckpoint\n",
        "top_model_weights_path = \"Best_model.h5\"\n",
        "# Defining callbacks to use early-stopping method for reducing computation after there is no improvement \n",
        "callbacks = [EarlyStopping(monitor='val_loss', patience=30,verbose=1,mode='auto'),\n",
        "             ModelCheckpoint(filepath=top_model_weights_path, monitor='val_accuracy',verbose=1, save_best_only=True)]\n",
        "\n",
        "model.fit_generator(training_set,\n",
        "\n",
        "                    steps_per_epoch = 125,\n",
        "\n",
        "                    epochs= 50,\n",
        "\n",
        "                    callbacks= callbacks,\n",
        "\n",
        "                    validation_data = test_set)"
      ],
      "execution_count": 21,
      "outputs": [
        {
          "output_type": "stream",
          "text": [
            "Epoch 1/50\n",
            "125/125 [==============================] - 23s 180ms/step - loss: 0.0000e+00 - accuracy: 1.0000 - val_loss: 0.0000e+00 - val_accuracy: 0.7258\n",
            "\n",
            "Epoch 00001: val_accuracy improved from -inf to 0.72581, saving model to Best_model.h5\n",
            "Epoch 2/50\n",
            "125/125 [==============================] - 22s 179ms/step - loss: 0.0000e+00 - accuracy: 1.0000 - val_loss: 0.0000e+00 - val_accuracy: 0.7258\n",
            "\n",
            "Epoch 00002: val_accuracy did not improve from 0.72581\n",
            "Epoch 3/50\n",
            "125/125 [==============================] - 22s 179ms/step - loss: 0.0000e+00 - accuracy: 1.0000 - val_loss: 0.0000e+00 - val_accuracy: 0.7258\n",
            "\n",
            "Epoch 00003: val_accuracy did not improve from 0.72581\n",
            "Epoch 4/50\n",
            "125/125 [==============================] - 22s 179ms/step - loss: 0.0000e+00 - accuracy: 1.0000 - val_loss: 0.0000e+00 - val_accuracy: 0.7258\n",
            "\n",
            "Epoch 00004: val_accuracy did not improve from 0.72581\n",
            "Epoch 5/50\n",
            "125/125 [==============================] - 22s 180ms/step - loss: 0.0000e+00 - accuracy: 1.0000 - val_loss: 0.0000e+00 - val_accuracy: 0.7258\n",
            "\n",
            "Epoch 00005: val_accuracy did not improve from 0.72581\n",
            "Epoch 6/50\n",
            "125/125 [==============================] - 22s 179ms/step - loss: 0.0000e+00 - accuracy: 1.0000 - val_loss: 0.0000e+00 - val_accuracy: 0.7258\n",
            "\n",
            "Epoch 00006: val_accuracy did not improve from 0.72581\n",
            "Epoch 7/50\n",
            "125/125 [==============================] - 22s 179ms/step - loss: 0.0000e+00 - accuracy: 1.0000 - val_loss: 0.0000e+00 - val_accuracy: 0.7258\n",
            "\n",
            "Epoch 00007: val_accuracy did not improve from 0.72581\n",
            "Epoch 8/50\n",
            "125/125 [==============================] - 22s 180ms/step - loss: 0.0000e+00 - accuracy: 1.0000 - val_loss: 0.0000e+00 - val_accuracy: 0.7258\n",
            "\n",
            "Epoch 00008: val_accuracy did not improve from 0.72581\n",
            "Epoch 9/50\n",
            "125/125 [==============================] - 22s 180ms/step - loss: 0.0000e+00 - accuracy: 1.0000 - val_loss: 0.0000e+00 - val_accuracy: 0.7258\n",
            "\n",
            "Epoch 00009: val_accuracy did not improve from 0.72581\n",
            "Epoch 10/50\n",
            "125/125 [==============================] - 22s 180ms/step - loss: 0.0000e+00 - accuracy: 1.0000 - val_loss: 0.0000e+00 - val_accuracy: 0.7258\n",
            "\n",
            "Epoch 00010: val_accuracy did not improve from 0.72581\n",
            "Epoch 11/50\n",
            "125/125 [==============================] - 23s 180ms/step - loss: 0.0000e+00 - accuracy: 1.0000 - val_loss: 0.0000e+00 - val_accuracy: 0.7258\n",
            "\n",
            "Epoch 00011: val_accuracy did not improve from 0.72581\n",
            "Epoch 12/50\n",
            "125/125 [==============================] - 23s 180ms/step - loss: 0.0000e+00 - accuracy: 1.0000 - val_loss: 0.0000e+00 - val_accuracy: 0.7258\n",
            "\n",
            "Epoch 00012: val_accuracy did not improve from 0.72581\n",
            "Epoch 13/50\n",
            "125/125 [==============================] - 22s 179ms/step - loss: 0.0000e+00 - accuracy: 1.0000 - val_loss: 0.0000e+00 - val_accuracy: 0.7258\n",
            "\n",
            "Epoch 00013: val_accuracy did not improve from 0.72581\n",
            "Epoch 14/50\n",
            "125/125 [==============================] - 22s 180ms/step - loss: 0.0000e+00 - accuracy: 1.0000 - val_loss: 0.0000e+00 - val_accuracy: 0.7419\n",
            "\n",
            "Epoch 00014: val_accuracy improved from 0.72581 to 0.74194, saving model to Best_model.h5\n",
            "Epoch 15/50\n",
            "125/125 [==============================] - 22s 180ms/step - loss: 0.0000e+00 - accuracy: 1.0000 - val_loss: 0.0000e+00 - val_accuracy: 0.7258\n",
            "\n",
            "Epoch 00015: val_accuracy did not improve from 0.74194\n",
            "Epoch 16/50\n",
            "125/125 [==============================] - 23s 180ms/step - loss: 0.0000e+00 - accuracy: 1.0000 - val_loss: 0.0000e+00 - val_accuracy: 0.7258\n",
            "\n",
            "Epoch 00016: val_accuracy did not improve from 0.74194\n",
            "Epoch 17/50\n",
            "125/125 [==============================] - 23s 180ms/step - loss: 0.0000e+00 - accuracy: 1.0000 - val_loss: 0.0000e+00 - val_accuracy: 0.7258\n",
            "\n",
            "Epoch 00017: val_accuracy did not improve from 0.74194\n",
            "Epoch 18/50\n",
            "125/125 [==============================] - 23s 180ms/step - loss: 0.0000e+00 - accuracy: 1.0000 - val_loss: 0.0000e+00 - val_accuracy: 0.7258\n",
            "\n",
            "Epoch 00018: val_accuracy did not improve from 0.74194\n",
            "Epoch 19/50\n",
            "125/125 [==============================] - 23s 180ms/step - loss: 0.0000e+00 - accuracy: 1.0000 - val_loss: 0.0000e+00 - val_accuracy: 0.7258\n",
            "\n",
            "Epoch 00019: val_accuracy did not improve from 0.74194\n",
            "Epoch 20/50\n",
            "125/125 [==============================] - 23s 180ms/step - loss: 0.0000e+00 - accuracy: 1.0000 - val_loss: 0.0000e+00 - val_accuracy: 0.7258\n",
            "\n",
            "Epoch 00020: val_accuracy did not improve from 0.74194\n",
            "Epoch 21/50\n",
            "125/125 [==============================] - 23s 180ms/step - loss: 0.0000e+00 - accuracy: 1.0000 - val_loss: 0.0000e+00 - val_accuracy: 0.7258\n",
            "\n",
            "Epoch 00021: val_accuracy did not improve from 0.74194\n",
            "Epoch 22/50\n",
            "125/125 [==============================] - 22s 180ms/step - loss: 0.0000e+00 - accuracy: 1.0000 - val_loss: 0.0000e+00 - val_accuracy: 0.7258\n",
            "\n",
            "Epoch 00022: val_accuracy did not improve from 0.74194\n",
            "Epoch 23/50\n",
            "125/125 [==============================] - 22s 180ms/step - loss: 0.0000e+00 - accuracy: 1.0000 - val_loss: 0.0000e+00 - val_accuracy: 0.7258\n",
            "\n",
            "Epoch 00023: val_accuracy did not improve from 0.74194\n",
            "Epoch 24/50\n",
            "125/125 [==============================] - 23s 180ms/step - loss: 0.0000e+00 - accuracy: 1.0000 - val_loss: 0.0000e+00 - val_accuracy: 0.7258\n",
            "\n",
            "Epoch 00024: val_accuracy did not improve from 0.74194\n",
            "Epoch 25/50\n",
            "125/125 [==============================] - 23s 180ms/step - loss: 0.0000e+00 - accuracy: 1.0000 - val_loss: 0.0000e+00 - val_accuracy: 0.7258\n",
            "\n",
            "Epoch 00025: val_accuracy did not improve from 0.74194\n",
            "Epoch 26/50\n",
            "125/125 [==============================] - 22s 180ms/step - loss: 0.0000e+00 - accuracy: 1.0000 - val_loss: 0.0000e+00 - val_accuracy: 0.7258\n",
            "\n",
            "Epoch 00026: val_accuracy did not improve from 0.74194\n",
            "Epoch 27/50\n",
            "125/125 [==============================] - 22s 179ms/step - loss: 0.0000e+00 - accuracy: 1.0000 - val_loss: 0.0000e+00 - val_accuracy: 0.7258\n",
            "\n",
            "Epoch 00027: val_accuracy did not improve from 0.74194\n",
            "Epoch 28/50\n",
            "125/125 [==============================] - 22s 180ms/step - loss: 0.0000e+00 - accuracy: 1.0000 - val_loss: 0.0000e+00 - val_accuracy: 0.7258\n",
            "\n",
            "Epoch 00028: val_accuracy did not improve from 0.74194\n",
            "Epoch 29/50\n",
            "125/125 [==============================] - 22s 179ms/step - loss: 0.0000e+00 - accuracy: 1.0000 - val_loss: 0.0000e+00 - val_accuracy: 0.7258\n",
            "\n",
            "Epoch 00029: val_accuracy did not improve from 0.74194\n",
            "Epoch 30/50\n",
            "125/125 [==============================] - 22s 180ms/step - loss: 0.0000e+00 - accuracy: 1.0000 - val_loss: 0.0000e+00 - val_accuracy: 0.7258\n",
            "\n",
            "Epoch 00030: val_accuracy did not improve from 0.74194\n",
            "Epoch 31/50\n",
            "125/125 [==============================] - 22s 179ms/step - loss: 0.0000e+00 - accuracy: 1.0000 - val_loss: 0.0000e+00 - val_accuracy: 0.7258\n",
            "\n",
            "Epoch 00031: val_accuracy did not improve from 0.74194\n",
            "Epoch 00031: early stopping\n"
          ],
          "name": "stdout"
        },
        {
          "output_type": "execute_result",
          "data": {
            "text/plain": [
              "<keras.callbacks.callbacks.History at 0x7fc6881cd9e8>"
            ]
          },
          "metadata": {
            "tags": []
          },
          "execution_count": 21
        }
      ]
    },
    {
      "cell_type": "code",
      "metadata": {
        "id": "AhOg4Tb7p_KX",
        "colab_type": "code",
        "outputId": "3c086640-3ed2-4b69-9e94-a217c762e26d",
        "colab": {
          "base_uri": "https://localhost:8080/",
          "height": 285
        }
      },
      "source": [
        "model_opt= load_model(\"Best_model.h5\")\n",
        "img_path =\"signs/test/8/IMG_1136.JPG\"\n",
        "\n",
        "img = image.load_img(img_path, target_size=(100, 100))\n",
        "imshow(img)\n",
        "\n",
        "x = image.img_to_array(img)\n",
        "x = np.expand_dims(x, axis=0)\n",
        "x = preprocess_input(x)\n",
        "\n",
        "print(model_opt.predict_classes(x))"
      ],
      "execution_count": 22,
      "outputs": [
        {
          "output_type": "stream",
          "text": [
            "[8]\n"
          ],
          "name": "stdout"
        },
        {
          "output_type": "display_data",
          "data": {
            "image/png": "[encoded data removed]",
            "text/plain": [
              "<Figure size 432x288 with 1 Axes>"
            ]
          },
          "metadata": {
            "tags": [],
            "needs_background": "light"
          }
        }
      ]
    },
    {
      "cell_type": "code",
      "metadata": {
        "id": "oChx537D8DKt",
        "colab_type": "code",
        "outputId": "ad439d74-3aa9-4e22-8224-03cf1be03785",
        "colab": {
          "base_uri": "https://localhost:8080/",
          "height": 476
        }
      },
      "source": [
        "from sklearn.metrics import confusion_matrix,classification_report\n",
        "model_opt = load_model(\"Best_model.h5\")\n",
        "test_set.reset()\n",
        "pred= model_opt.predict_generator(test_set)\n",
        "predicted_class_indices=np.argmax(pred,axis=1)\n",
        "labels = (test_set.class_indices)\n",
        "labels2 = dict((v,k) for k,v in labels.items())\n",
        "#predictions = [labels[k] for k in predicted_class_indices]\n",
        "\n",
        "#print(predicted_class_indices)\n",
        "#print(test_set.classes)\n",
        "print(confusion_matrix(test_set.classes,predicted_class_indices))\n",
        "print(classification_report(test_set.classes,predicted_class_indices))\n"
      ],
      "execution_count": 23,
      "outputs": [
        {
          "output_type": "stream",
          "text": [
            "[[5 0 0 0 0 0 0 0 0 0]\n",
            " [0 6 0 0 0 0 0 0 0 0]\n",
            " [0 1 3 0 0 0 1 1 0 0]\n",
            " [0 1 0 4 0 0 0 0 0 1]\n",
            " [0 0 0 0 7 0 0 0 0 0]\n",
            " [0 0 0 1 0 5 0 0 0 1]\n",
            " [0 0 0 0 1 0 4 2 0 0]\n",
            " [0 1 0 0 0 0 0 5 0 0]\n",
            " [0 0 0 0 1 1 0 1 4 1]\n",
            " [0 1 0 0 0 0 0 0 0 3]]\n",
            "              precision    recall  f1-score   support\n",
            "\n",
            "           0       1.00      1.00      1.00         5\n",
            "           1       0.60      1.00      0.75         6\n",
            "           2       1.00      0.50      0.67         6\n",
            "           3       0.80      0.67      0.73         6\n",
            "           4       0.78      1.00      0.88         7\n",
            "           5       0.83      0.71      0.77         7\n",
            "           6       0.80      0.57      0.67         7\n",
            "           7       0.56      0.83      0.67         6\n",
            "           8       1.00      0.50      0.67         8\n",
            "           9       0.50      0.75      0.60         4\n",
            "\n",
            "    accuracy                           0.74        62\n",
            "   macro avg       0.79      0.75      0.74        62\n",
            "weighted avg       0.80      0.74      0.74        62\n",
            "\n"
          ],
          "name": "stdout"
        }
      ]
    },
    {
      "cell_type": "code",
      "metadata": {
        "id": "MKv_QKv28bp2",
        "colab_type": "code",
        "colab": {}
      },
      "source": [
        ""
      ],
      "execution_count": 0,
      "outputs": []
    }
  ]
}