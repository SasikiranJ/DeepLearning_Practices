{
  "nbformat": 4,
  "nbformat_minor": 0,
  "metadata": {
    "colab": {
      "name": "Untitled4.ipynb",
      "provenance": [],
      "collapsed_sections": [],
      "authorship_tag": "ABX9TyO0FO7H3a/0YOVNMSq5/piR",
      "include_colab_link": true
    },
    "kernelspec": {
      "name": "python3",
      "display_name": "Python 3"
    },
    "accelerator": "GPU"
  },
  "cells": [
    {
      "cell_type": "markdown",
      "metadata": {
        "id": "view-in-github",
        "colab_type": "text"
      },
      "source": [
        "<a href=\"https://colab.research.google.com/github/SasikiranJ/MNIST_PyTorch/blob/master/MNIST_pytorch_implementation.ipynb\" target=\"_parent\"><img src=\"https://colab.research.google.com/assets/colab-badge.svg\" alt=\"Open In Colab\"/></a>"
      ]
    },
    {
      "cell_type": "code",
      "metadata": {
        "id": "yF8zXIRiNHbM",
        "colab_type": "code",
        "colab": {}
      },
      "source": [
        "#importing all necessary libraries\n",
        "import numpy as np\n",
        "import torch\n",
        "import torch.nn as nn\n",
        "import torch.optim as optim\n",
        "import random\n",
        "import matplotlib.pyplot as plt\n",
        "import torchvision\n",
        "from IPython.display import display, Markdown\n",
        "from tqdm import tqdm\n",
        "import torchvision.transforms as transforms\n",
        "import time"
      ],
      "execution_count": 0,
      "outputs": []
    },
    {
      "cell_type": "code",
      "metadata": {
        "id": "rz5vf-tONatT",
        "colab_type": "code",
        "colab": {}
      },
      "source": [
        "#Downloading mnist dataset\n",
        "train_data = torchvision.datasets.MNIST(root=\"./data\",train=True, download=True,transform = transforms.ToTensor())\n",
        "test_data = torchvision.datasets.MNIST(root = \"./data\",train=False,download=True, transform=transforms.ToTensor())"
      ],
      "execution_count": 0,
      "outputs": []
    },
    {
      "cell_type": "code",
      "metadata": {
        "id": "5OtmurN0Nj7V",
        "colab_type": "code",
        "colab": {
          "base_uri": "https://localhost:8080/",
          "height": 208
        },
        "outputId": "f1e601ec-0ec9-405d-d8b6-c0e251d272f2"
      },
      "source": [
        "#Data\n",
        "ind = random.sample(range(0,len(train_data)),5)\n",
        "fig = plt.figure(figsize=(15,10))\n",
        "for i,index in enumerate(ind):\n",
        "    num = train_data[index][0].reshape(28,28)\n",
        "    label = train_data[index][1]\n",
        "    ax = fig.add_subplot(1,5,i+1)\n",
        "    ax.set_xlabel(\"Label :{}\".format(label))\n",
        "    plt.imshow(num,cmap=\"gray\")"
      ],
      "execution_count": 4,
      "outputs": [
        {
          "output_type": "display_data",
          "data": {
            "image/png": "[encoded data removed]",
            "text/plain": [
              "<Figure size 1080x720 with 5 Axes>"
            ]
          },
          "metadata": {
            "tags": []
          }
        }
      ]
    },
    {
      "cell_type": "code",
      "metadata": {
        "id": "FTqrD_eYNu3d",
        "colab_type": "code",
        "colab": {}
      },
      "source": [
        "#splitting training data into train and val sets\n",
        "x_train,x_val = torch.utils.data.random_split(train_data,[int(0.92*len(train_data)),int(0.08*len(train_data))])"
      ],
      "execution_count": 0,
      "outputs": []
    },
    {
      "cell_type": "code",
      "metadata": {
        "id": "gD0Qjp5_N09c",
        "colab_type": "code",
        "colab": {}
      },
      "source": [
        "#loading data to three separate variables\n",
        "batch_size = 64\n",
        "train_loader = torch.utils.data.DataLoader(dataset = x_train,batch_size = batch_size)\n",
        "val_loader = torch.utils.data.DataLoader(dataset = x_val,batch_size=batch_size)\n",
        "test_loader = torch.utils.data.DataLoader(dataset = test_data,batch_size=batch_size)"
      ],
      "execution_count": 0,
      "outputs": []
    },
    {
      "cell_type": "code",
      "metadata": {
        "id": "2PQSvztJN4HU",
        "colab_type": "code",
        "colab": {}
      },
      "source": [
        "#Implementing own NN architecture for image classification using CNN\n",
        "class LeNet5(nn.Module):\n",
        "    def __init__(self,output_size):\n",
        "        super(LeNet5,self).__init__()\n",
        "        self.layer1 = nn.Sequential(\n",
        "            nn.Conv2d(1,6,kernel_size = 5, stride = 1,padding = 2),\n",
        "            nn.BatchNorm2d(6),\n",
        "            nn.ReLU(),\n",
        "            nn.MaxPool2d(kernel_size = 2, stride = 2)\n",
        "        )\n",
        "        \n",
        "        self.layer2 = nn.Sequential(\n",
        "            nn.Conv2d(6,12,kernel_size = 5, stride = 1),\n",
        "            nn.BatchNorm2d(12),\n",
        "            nn.ReLU(),\n",
        "            nn.MaxPool2d(kernel_size = 2, stride = 2)\n",
        "        )\n",
        "        \n",
        "        self.layer3 = nn.Sequential(\n",
        "            nn.Conv2d(12,18,kernel_size = 5, stride = 1),\n",
        "            nn.BatchNorm2d(18),\n",
        "            nn.ReLU()\n",
        "        )\n",
        "        \n",
        "        self.fc1 = nn.Linear(18,10)\n",
        "        #self.fc2 = nn.Linear(84,10)        \n",
        "        \n",
        "    def forward(self,x):\n",
        "        x = self.layer1(x)\n",
        "        x = self.layer2(x)\n",
        "        x = self.layer3(x)\n",
        "        x = self.fc1(x.view(x.size(0),-1))\n",
        "        #x = self.fc2(x)\n",
        "        return x"
      ],
      "execution_count": 0,
      "outputs": []
    },
    {
      "cell_type": "code",
      "metadata": {
        "id": "0zeBj6LyOBMu",
        "colab_type": "code",
        "colab": {}
      },
      "source": [
        "nepochs = 50\n",
        "output_size = 10\n",
        "lr = 0.01\n",
        "model = LeNet5(output_size).to(device)\n",
        "criterion = nn.CrossEntropyLoss()\n",
        "optimizer = optim.RMSprop(model.parameters(),lr=lr) # using RMSprop optimizer"
      ],
      "execution_count": 0,
      "outputs": []
    },
    {
      "cell_type": "code",
      "metadata": {
        "id": "9Db_B6ulOE-S",
        "colab_type": "code",
        "colab": {}
      },
      "source": [
        "#training our model\n",
        "for epoch in range(nepochs):\n",
        "    time.sleep(0.5)\n",
        "    for i, (data, labels) in enumerate(tqdm(train_loader)):\n",
        "        \n",
        "        data = data.to(device)\n",
        "        labels = labels.to(device)\n",
        "                \n",
        "        outputs = model(data)\n",
        "        loss = criterion(outputs, labels)\n",
        "        \n",
        "        optimizer.zero_grad()\n",
        "        loss.backward()\n",
        "        optimizer.step()    \n",
        "    print('Epoch [{}/{}], Loss: {:.4f}'.format(epoch+1, nepochs, loss.item()))"
      ],
      "execution_count": 0,
      "outputs": []
    },
    {
      "cell_type": "code",
      "metadata": {
        "id": "PgaJ4Jb3OKZq",
        "colab_type": "code",
        "colab": {
          "base_uri": "https://localhost:8080/",
          "height": 34
        },
        "outputId": "e8a27303-a9f8-445a-b68c-87777d89d129"
      },
      "source": [
        "# accuracy on validation set\n",
        "model.eval() #Tells batchnorm and droput layers to consider data as test\n",
        "with torch.no_grad():\n",
        "    correct = 0\n",
        "    for images, labels in val_loader:\n",
        "        images = images.to(device)\n",
        "        labels = labels.to(device)\n",
        "        outputs = model(images)\n",
        "        _, predicted = torch.max(outputs, 1)\n",
        "        correct += (predicted == labels).sum().item()        \n",
        "print('Accuracy of the model on the {} validation images: {:.4f} %'.format(len(x_val),100*correct/ len(x_val)))"
      ],
      "execution_count": 199,
      "outputs": [
        {
          "output_type": "stream",
          "text": [
            "Accuracy of the model on the 4800 validation images: 99.1250 %\n"
          ],
          "name": "stdout"
        }
      ]
    },
    {
      "cell_type": "code",
      "metadata": {
        "id": "97U1U9ZmPwlE",
        "colab_type": "code",
        "colab": {
          "base_uri": "https://localhost:8080/",
          "height": 34
        },
        "outputId": "3c3b24a7-5471-4b1c-e3ce-9c94c89dfe0f"
      },
      "source": [
        "#accuracy on test set\n",
        "model.eval()\n",
        "with torch.no_grad():\n",
        "    correct = 0\n",
        "    test_incorrect = []\n",
        "    for images, labels in test_loader:\n",
        "        images = images.to(device)\n",
        "        labels = labels.to(device)\n",
        "        outputs = model(images)\n",
        "        _, predicted = torch.max(outputs, 1)\n",
        "        correct += (predicted == labels).sum().item()\n",
        "        \n",
        "        #Storing incorrectly classifed images\n",
        "        for item in (predicted != labels).nonzero():\n",
        "            test_incorrect.append([images.data[item],predicted[item],labels[item]])\n",
        "print('Accuracy of the model on the {} test images: {} %'.format(len(test_data),100*correct/ len(test_data)))"
      ],
      "execution_count": 200,
      "outputs": [
        {
          "output_type": "stream",
          "text": [
            "Accuracy of the model on the 10000 test images: 98.68 %\n"
          ],
          "name": "stdout"
        }
      ]
    },
    {
      "cell_type": "code",
      "metadata": {
        "id": "9XXiqZ48P1ut",
        "colab_type": "code",
        "colab": {}
      },
      "source": [
        "#Total number of parameters\n",
        "pytorch_total_params = sum(p.numel() for p in model.parameters() if p.requires_grad)"
      ],
      "execution_count": 0,
      "outputs": []
    },
    {
      "cell_type": "code",
      "metadata": {
        "id": "_FjdSlWTQKTj",
        "colab_type": "code",
        "colab": {
          "base_uri": "https://localhost:8080/",
          "height": 34
        },
        "outputId": "e868a7cb-fa00-4376-fcd6-ab2fa6be991a"
      },
      "source": [
        "print(pytorch_total_params) # parameters less than 8000"
      ],
      "execution_count": 202,
      "outputs": [
        {
          "output_type": "stream",
          "text": [
            "7648\n"
          ],
          "name": "stdout"
        }
      ]
    },
    {
      "cell_type": "code",
      "metadata": {
        "id": "CAfyuvD2QmTz",
        "colab_type": "code",
        "colab": {}
      },
      "source": [
        ""
      ],
      "execution_count": 0,
      "outputs": []
    }
  ]
}